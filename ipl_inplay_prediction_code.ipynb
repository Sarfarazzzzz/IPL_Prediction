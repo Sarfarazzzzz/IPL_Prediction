{
  "cells": [
    {
      "cell_type": "markdown",
      "metadata": {
        "id": "view-in-github",
        "colab_type": "text"
      },
      "source": [
        "<a href=\"https://colab.research.google.com/github/Sarfarazzzzz/IPL_Prediction/blob/main/ipl_inplay_prediction_code.ipynb\" target=\"_parent\"><img src=\"https://colab.research.google.com/assets/colab-badge.svg\" alt=\"Open In Colab\"/></a>"
      ]
    },
    {
      "cell_type": "markdown",
      "id": "4a38ea95",
      "metadata": {
        "id": "4a38ea95"
      },
      "source": [
        "# 🏏 IPL In-Play Match Winner Prediction\n",
        "This notebook builds a machine learning model to predict the match winner after every ball using IPL data."
      ]
    },
    {
      "cell_type": "code",
      "execution_count": null,
      "id": "0e57c049",
      "metadata": {
        "id": "0e57c049"
      },
      "outputs": [],
      "source": [
        "# Install required packages\n",
        "%pip install xgboost lightgbm\n"
      ]
    },
    {
      "cell_type": "code",
      "execution_count": null,
      "id": "69af98a4",
      "metadata": {
        "id": "69af98a4"
      },
      "outputs": [],
      "source": [
        "import pandas as pd\n",
        "import numpy as np\n",
        "\n",
        "from sklearn.model_selection import train_test_split\n",
        "from sklearn.preprocessing import LabelEncoder\n",
        "from sklearn.ensemble import RandomForestClassifier\n",
        "from xgboost import XGBClassifier\n",
        "from lightgbm import LGBMClassifier\n",
        "\n",
        "from sklearn.metrics import accuracy_score, classification_report, confusion_matrix\n",
        "import warnings\n",
        "warnings.filterwarnings('ignore')\n"
      ]
    },
    {
      "cell_type": "markdown",
      "id": "fddecf63",
      "metadata": {
        "id": "fddecf63"
      },
      "source": [
        "## Step 1: Load and Merge Data"
      ]
    },
    {
      "cell_type": "code",
      "execution_count": null,
      "id": "40462ae3",
      "metadata": {
        "id": "40462ae3"
      },
      "outputs": [],
      "source": [
        "matches = pd.read_csv(\"/content/drive/MyDrive/Colab Notebooks/IPL/matches.csv\")\n",
        "deliveries_raw = pd.read_csv(\"/content/drive/MyDrive/Colab Notebooks/IPL/deliveries.csv\")\n",
        "\n",
        "# ---- Home Team Mapping ----\n",
        "home_venues = {\n",
        "    \"Chennai Super Kings\": [\"MA Chidambaram Stadium\"],\n",
        "    \"Mumbai Indians\": [\"Wankhede Stadium\"],\n",
        "    \"Kolkata Knight Riders\": [\"Eden Gardens\"],\n",
        "    \"Royal Challengers Bangalore\": [\"M Chinnaswamy Stadium\"],\n",
        "    \"Sunrisers Hyderabad\": [\"Rajiv Gandhi International Stadium, Uppal\"],\n",
        "    \"Delhi Capitals\": [\"Arun Jaitley Stadium\", \"Feroz Shah Kotla\"],\n",
        "    \"Punjab Kings\": [\"Punjab Cricket Association IS Bindra Stadium\"],\n",
        "    \"Rajasthan Royals\": [\"Sawai Mansingh Stadium\"],\n",
        "    \"Gujarat Titans\": [\"Narendra Modi Stadium\"],\n",
        "    \"Lucknow Super Giants\": [\"Bharat Ratna Shri Atal Bihari Vajpayee Ekana Cricket Stadium\"]\n",
        "}\n",
        "venue_to_home_team = {}\n",
        "for team, venues in home_venues.items():\n",
        "    for v in venues:\n",
        "        venue_to_home_team[v] = team\n",
        "matches[\"venue_home_team\"] = matches[\"venue\"].map(venue_to_home_team)\n",
        "\n",
        "# Use ONLY first innings to calculate match target\n",
        "first_innings = deliveries_raw[deliveries_raw[\"inning\"] == 1]\n",
        "targets = first_innings.groupby(\"match_id\")[\"total_runs\"].sum().reset_index()\n",
        "targets.columns = [\"match_id\", \"target\"]\n",
        "\n",
        "# Use 2nd innings for prediction\n",
        "second_innings = deliveries_raw[deliveries_raw[\"inning\"] == 2]\n",
        "\n",
        "# Merge everything\n",
        "df = second_innings.merge(matches[[\"id\", \"venue\", \"winner\", \"venue_home_team\"]],\n",
        "                          left_on=\"match_id\", right_on=\"id\", how=\"left\")\n",
        "df = df.merge(targets, on=\"match_id\", how=\"left\")\n"
      ]
    },
    {
      "cell_type": "code",
      "source": [
        "from google.colab import drive\n",
        "drive.mount('/content/drive')"
      ],
      "metadata": {
        "colab": {
          "base_uri": "https://localhost:8080/"
        },
        "id": "7nzRp7fz59Is",
        "outputId": "75271c18-bee0-4d5c-c322-c498d3202e6c"
      },
      "id": "7nzRp7fz59Is",
      "execution_count": null,
      "outputs": [
        {
          "output_type": "stream",
          "name": "stdout",
          "text": [
            "Mounted at /content/drive\n"
          ]
        }
      ]
    },
    {
      "cell_type": "markdown",
      "id": "f33be87d",
      "metadata": {
        "id": "f33be87d"
      },
      "source": [
        "## Step 2: Feature Engineering (Ball-by-Ball)"
      ]
    },
    {
      "cell_type": "code",
      "execution_count": null,
      "id": "4895f614",
      "metadata": {
        "id": "4895f614"
      },
      "outputs": [],
      "source": [
        "# ---- Feature Engineering ----\n",
        "df['total_runs_so_far'] = df.groupby('match_id')['total_runs'].cumsum()\n",
        "df['balls_so_far'] = df.groupby('match_id').cumcount() + 1\n",
        "df['balls_left'] = 120 - df['balls_so_far']\n",
        "df['current_run_rate'] = df['total_runs_so_far'] * 6 / df['balls_so_far']\n",
        "df['runs_left'] = df['target'] - df['total_runs_so_far']\n",
        "df['required_run_rate'] = df['runs_left'] * 6 / df['balls_left']\n",
        "df['wickets_so_far'] = df.groupby('match_id')['is_wicket'].cumsum()\n",
        "df['wickets_left'] = 10 - df['wickets_so_far']\n",
        "df['run_rate_diff'] = df['current_run_rate'] - df['required_run_rate']\n",
        "df['is_home_team'] = (df['batting_team'] == df['venue_home_team']).astype(int)\n",
        "\n",
        "# Clean\n",
        "df.replace([np.inf, -np.inf], np.nan, inplace=True)\n",
        "df.dropna(subset=['required_run_rate'], inplace=True)\n",
        "\n",
        "# ---- Target ----\n",
        "df['batting_team_won'] = (df['batting_team'] == df['winner']).astype(int)\n"
      ]
    },
    {
      "cell_type": "markdown",
      "id": "4192823e",
      "metadata": {
        "id": "4192823e"
      },
      "source": [
        "## Step 3: Encode Categorical Variables"
      ]
    },
    {
      "cell_type": "code",
      "execution_count": null,
      "id": "34b1c083",
      "metadata": {
        "id": "34b1c083"
      },
      "outputs": [],
      "source": [
        "for col in ['batting_team', 'bowling_team', 'venue', 'venue_home_team']:\n",
        "    df[col] = LabelEncoder().fit_transform(df[col].astype(str))\n",
        "# Final feature list\n",
        "features_final = [\n",
        "    'batting_team', 'bowling_team', 'venue',\n",
        "    'balls_so_far', 'balls_left',\n",
        "    'total_runs_so_far', 'runs_left',\n",
        "    'current_run_rate', 'required_run_rate',\n",
        "    'wickets_left', 'run_rate_diff', 'is_home_team'\n",
        "]\n",
        "X = df[features_final]\n",
        "y = df['batting_team_won']\n",
        "\n"
      ]
    },
    {
      "cell_type": "markdown",
      "id": "9f441744",
      "metadata": {
        "id": "9f441744"
      },
      "source": [
        "## Step 4: Train-Test Split and Model Training"
      ]
    },
    {
      "cell_type": "code",
      "execution_count": null,
      "id": "05c60992",
      "metadata": {
        "id": "05c60992"
      },
      "outputs": [],
      "source": [
        "df_sampled = df.sample(n=5000, random_state=42)\n",
        "X_sampled = df_sampled[features_final]\n",
        "y_sampled = df_sampled['batting_team_won']\n",
        "\n",
        "X_train, X_test, y_train, y_test = train_test_split(\n",
        "    X_sampled, y_sampled, test_size=0.2, stratify=y_sampled, random_state=42\n",
        ")\n",
        "\n"
      ]
    },
    {
      "cell_type": "code",
      "execution_count": null,
      "id": "cf9d6eca",
      "metadata": {
        "colab": {
          "base_uri": "https://localhost:8080/"
        },
        "id": "cf9d6eca",
        "outputId": "e0196039-bf7c-413c-d08e-61c1846b2aac"
      },
      "outputs": [
        {
          "output_type": "stream",
          "name": "stdout",
          "text": [
            "\n",
            "🔍 Model: Random Forest\n",
            "Accuracy: 0.8100\n",
            "              precision    recall  f1-score   support\n",
            "\n",
            "           0       0.82      0.78      0.80       483\n",
            "           1       0.81      0.83      0.82       517\n",
            "\n",
            "    accuracy                           0.81      1000\n",
            "   macro avg       0.81      0.81      0.81      1000\n",
            "weighted avg       0.81      0.81      0.81      1000\n",
            "\n",
            "\n",
            "🔍 Model: XGBoost\n",
            "Accuracy: 0.8370\n",
            "              precision    recall  f1-score   support\n",
            "\n",
            "           0       0.84      0.81      0.83       483\n",
            "           1       0.83      0.86      0.84       517\n",
            "\n",
            "    accuracy                           0.84      1000\n",
            "   macro avg       0.84      0.84      0.84      1000\n",
            "weighted avg       0.84      0.84      0.84      1000\n",
            "\n",
            "\n",
            "🔍 Model: LightGBM\n",
            "[LightGBM] [Info] Number of positive: 2070, number of negative: 1930\n",
            "[LightGBM] [Info] Auto-choosing row-wise multi-threading, the overhead of testing was 0.000545 seconds.\n",
            "You can set `force_row_wise=true` to remove the overhead.\n",
            "And if memory is not enough, you can set `force_col_wise=true`.\n",
            "[LightGBM] [Info] Total Bins 1532\n",
            "[LightGBM] [Info] Number of data points in the train set: 4000, number of used features: 12\n",
            "[LightGBM] [Info] [binary:BoostFromScore]: pavg=0.517500 -> initscore=0.070029\n",
            "[LightGBM] [Info] Start training from score 0.070029\n",
            "Accuracy: 0.8440\n",
            "              precision    recall  f1-score   support\n",
            "\n",
            "           0       0.85      0.83      0.84       483\n",
            "           1       0.84      0.86      0.85       517\n",
            "\n",
            "    accuracy                           0.84      1000\n",
            "   macro avg       0.84      0.84      0.84      1000\n",
            "weighted avg       0.84      0.84      0.84      1000\n",
            "\n"
          ]
        }
      ],
      "source": [
        "X.replace([np.inf, -np.inf], np.nan, inplace=True)\n",
        "X.dropna(inplace=True)\n",
        "y = y[X.index]  # Align target with filtered features\n",
        "\n",
        "\n",
        "models = {\n",
        "    \"Random Forest\": RandomForestClassifier(n_estimators=100, random_state=42),\n",
        "    \"XGBoost\": XGBClassifier(use_label_encoder=False, eval_metric='logloss'),\n",
        "    \"LightGBM\": LGBMClassifier()\n",
        "}\n",
        "\n",
        "for name, model in models.items():\n",
        "    print(f\"\\n🔍 Model: {name}\")\n",
        "    model.fit(X_train, y_train)\n",
        "    y_pred = model.predict(X_test)\n",
        "    acc = accuracy_score(y_test, y_pred)\n",
        "    report = classification_report(y_test, y_pred)\n",
        "    print(f\"Accuracy: {acc:.4f}\")\n",
        "    print(report)\n"
      ]
    },
    {
      "cell_type": "code",
      "source": [
        "test_cases = pd.DataFrame([\n",
        "    {\n",
        "        \"batting_team\": 3,\n",
        "        \"bowling_team\": 5,\n",
        "        \"venue\": 2,\n",
        "        \"balls_so_far\": 12,  # 2 overs\n",
        "        \"balls_left\": 108,\n",
        "        \"total_runs_so_far\": 10,\n",
        "        \"runs_left\": 150,\n",
        "        \"current_run_rate\": 10 * 6 / 12,\n",
        "        \"required_run_rate\": 150 * 6 / 108,\n",
        "        \"wickets_left\": 9,\n",
        "        \"run_rate_diff\": (10 * 6 / 12) - (150 * 6 / 108),\n",
        "        \"is_home_team\": 1\n",
        "    },\n",
        "    {\n",
        "        \"batting_team\": 3,\n",
        "        \"bowling_team\": 5,\n",
        "        \"venue\": 2,\n",
        "        \"balls_so_far\": 60,  # 10 overs\n",
        "        \"balls_left\": 60,\n",
        "        \"total_runs_so_far\": 70,\n",
        "        \"runs_left\": 90,\n",
        "        \"current_run_rate\": 70 * 6 / 60,\n",
        "        \"required_run_rate\": 90 * 6 / 60,\n",
        "        \"wickets_left\": 7,\n",
        "        \"run_rate_diff\": (70 * 6 / 60) - (90 * 6 / 60),\n",
        "        \"is_home_team\": 1\n",
        "    },\n",
        "    {\n",
        "        \"batting_team\": 3,\n",
        "        \"bowling_team\": 5,\n",
        "        \"venue\": 2,\n",
        "        \"balls_so_far\": 108,  # 18 overs\n",
        "        \"balls_left\": 12,\n",
        "        \"total_runs_so_far\": 140,\n",
        "        \"runs_left\": 20,\n",
        "        \"current_run_rate\": 140 * 6 / 108,\n",
        "        \"required_run_rate\": 20 * 6 / 12,\n",
        "        \"wickets_left\": 5,\n",
        "        \"run_rate_diff\": (140 * 6 / 108) - (20 * 6 / 12),\n",
        "        \"is_home_team\": 1\n",
        "    }\n",
        "])"
      ],
      "metadata": {
        "id": "hdVmnGdFHqV9"
      },
      "id": "hdVmnGdFHqV9",
      "execution_count": null,
      "outputs": []
    },
    {
      "cell_type": "code",
      "source": [
        "for name, model in models.items():\n",
        "    preds = model.predict(test_cases)\n",
        "    probs = model.predict_proba(test_cases)\n",
        "    print(f\"\\n🔍 {name}\")\n",
        "    for i, row in test_cases.iterrows():\n",
        "        print(f\"Ball {row['balls_so_far']} → Win Prob: {probs[i][1]:.2f} | Prediction: {'WIN' if preds[i] == 1 else 'LOSE'}\")"
      ],
      "metadata": {
        "colab": {
          "base_uri": "https://localhost:8080/"
        },
        "id": "jwheFtx5HqTb",
        "outputId": "9d3aa3b2-6037-4fc6-ad90-d94fdeaea903"
      },
      "id": "jwheFtx5HqTb",
      "execution_count": null,
      "outputs": [
        {
          "output_type": "stream",
          "name": "stdout",
          "text": [
            "\n",
            "🔍 Random Forest\n",
            "Ball 12.0 → Win Prob: 0.59 | Prediction: WIN\n",
            "Ball 60.0 → Win Prob: 0.66 | Prediction: WIN\n",
            "Ball 108.0 → Win Prob: 0.67 | Prediction: WIN\n",
            "\n",
            "🔍 XGBoost\n",
            "Ball 12.0 → Win Prob: 0.68 | Prediction: WIN\n",
            "Ball 60.0 → Win Prob: 0.92 | Prediction: WIN\n",
            "Ball 108.0 → Win Prob: 0.94 | Prediction: WIN\n",
            "\n",
            "🔍 LightGBM\n",
            "Ball 12.0 → Win Prob: 0.71 | Prediction: WIN\n",
            "Ball 60.0 → Win Prob: 0.85 | Prediction: WIN\n",
            "Ball 108.0 → Win Prob: 0.75 | Prediction: WIN\n"
          ]
        }
      ]
    },
    {
      "cell_type": "code",
      "source": [],
      "metadata": {
        "id": "HC4cYTx3HqQf"
      },
      "id": "HC4cYTx3HqQf",
      "execution_count": null,
      "outputs": []
    },
    {
      "cell_type": "code",
      "source": [],
      "metadata": {
        "id": "ubzSyDT5HqNc"
      },
      "id": "ubzSyDT5HqNc",
      "execution_count": null,
      "outputs": []
    },
    {
      "cell_type": "code",
      "source": [],
      "metadata": {
        "id": "tYOyf12EHqJv"
      },
      "id": "tYOyf12EHqJv",
      "execution_count": null,
      "outputs": []
    },
    {
      "cell_type": "code",
      "source": [],
      "metadata": {
        "id": "XyILf8Y8HqGH"
      },
      "id": "XyILf8Y8HqGH",
      "execution_count": null,
      "outputs": []
    }
  ],
  "metadata": {
    "colab": {
      "provenance": [],
      "include_colab_link": true
    },
    "language_info": {
      "name": "python"
    },
    "kernelspec": {
      "name": "python3",
      "display_name": "Python 3"
    }
  },
  "nbformat": 4,
  "nbformat_minor": 5
}